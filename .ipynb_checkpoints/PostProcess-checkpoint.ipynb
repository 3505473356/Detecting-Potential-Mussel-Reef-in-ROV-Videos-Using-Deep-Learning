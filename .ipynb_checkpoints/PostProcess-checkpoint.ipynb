{
 "cells": [
  {
   "cell_type": "markdown",
   "id": "08653be1",
   "metadata": {},
   "source": [
    "### Data process\n",
    "\n",
    "After collecting all the mussels' coverage from all frames in one video, we need to process these data and visulization. \n",
    "\n",
    "It mainly because the detection result is not stable, for example, there is one area covered with lots of mussels, but in front five seconds the output coverage is high but it fall down suddenly in some frames, after that it comes back suddenly again. Therefore, we modify some unreasonable data with their neighbour data.\n",
    "\n",
    "Finally, we show the processed result."
   ]
  },
  {
   "cell_type": "code",
   "execution_count": 1,
   "id": "98481e25",
   "metadata": {},
   "outputs": [],
   "source": [
    "import numpy as np\n",
    "import os\n",
    "import matplotlib.pyplot as plt\n",
    "import math"
   ]
  },
  {
   "cell_type": "code",
   "execution_count": 2,
   "id": "68605d67",
   "metadata": {},
   "outputs": [],
   "source": [
    "def data_process(data_path, video_fps=33, interval=60):\n",
    "    data = []\n",
    "    mean_coverage = []\n",
    "    x_axis = []\n",
    "    count = 0\n",
    "    \n",
    "    dirs = os.listdir(data_path)\n",
    "    dirs.sort(key = lambda x:int(x.split('.mp4_')[-1].split('.')[0])) #.npy file name format: video name + “_n” + \".npy\"\n",
    "    video_name = str(dirs[0].split('.mp4_')[0])\n",
    "    \n",
    "    for item in dirs:\n",
    "        coverage = np.load(data_path + item)\n",
    "        data.append(coverage)\n",
    "        \n",
    "        if coverage is str:\n",
    "            print(\"Data type is wrong\")\n",
    "            break\n",
    "        \n",
    "        count += 1\n",
    "        \n",
    "    print(\"The\" + str(count) + \"/\" + str(len(dirs)) + \" coverage is saved. The last file is:  \" + str(item))\n",
    "\n",
    "    data = np.array(data)\n",
    "    print(str(len(data)) + \" data stored\")\n",
    "    \n",
    "    for i in range(1,len(data),1):\n",
    "        if data[i-1] - data[i] > 0.5 * np.mean(data[i-1] + data[i]):\n",
    "            data[i] = data[i-1] * 0.8\n",
    "            \n",
    "        if data[i-1] - data[i] < - 0.5 * np.mean(data[i-1] + data[i]):\n",
    "            data[i-1] = data[i] * 0.8\n",
    "            \n",
    "        else:\n",
    "            continue\n",
    "    print(\"Data cleaned\")\n",
    "    \n",
    "    gap = video_fps * interval\n",
    "    x = math.ceil(len(data)/gap)\n",
    "    x_axis = np.arange(x)\n",
    "    \n",
    "    for i in x_axis:\n",
    "        if i+1 == x:\n",
    "            value = np.mean(data[gap * i:])\n",
    "        else:\n",
    "            value = np.mean(data[gap * i:gap * (i+1)])\n",
    "        \n",
    "        mean_coverage.append(value) \n",
    "    \n",
    "    print(str(len(data)) + \" has divided into \" + str(len(mean_coverage)) + \" bins based on given interval: \" + str(interval) + \" and video FPS: \" + str(video_fps))\n",
    "    print(\"************************* Process finished *************************\")\n",
    "    \n",
    "    return mean_coverage, x_axis, video_name"
   ]
  },
  {
   "cell_type": "code",
   "execution_count": 3,
   "id": "8e0ed6c9",
   "metadata": {},
   "outputs": [],
   "source": [
    "def visulization(x, y, threshold=30, video_name=\"Unknown\"):\n",
    "    color = []\n",
    "    \n",
    "    for value in y:\n",
    "        if value > threshold:\n",
    "            color.append('salmon')\n",
    "        else:\n",
    "            color.append('lawngreen')\n",
    "    \n",
    "    plt.figure(figsize=(12,8))\n",
    "    plt.bar(x, y, color=color)\n",
    "    plt.title(\"Mussels' distribution in the video: \" + video_name)\n",
    "    plt.xlabel(\"Minute/m\")\n",
    "    plt.ylabel(\"Mean mussels' coverage/%\")"
   ]
  },
  {
   "cell_type": "code",
   "execution_count": 4,
   "id": "b63e60a4",
   "metadata": {},
   "outputs": [
    {
     "name": "stdout",
     "output_type": "stream",
     "text": [
      "The40297/40297 coverage is saved. The last file is:  03-02_16.07.53.mp4_40297.npy\n",
      "40297 data stored\n",
      "Data cleaned\n",
      "40297 has divided into 21 bins based on given interval: 60 and video FPS: 33\n",
      "************************* Process finished *************************\n"
     ]
    },
    {
     "data": {
      "image/png": "[encoded data removed]",
      "text/plain": [
       "<Figure size 864x576 with 1 Axes>"
      ]
     },
     "metadata": {
      "needs_background": "light"
     },
     "output_type": "display_data"
    }
   ],
   "source": [
    "data_path = \"03-02_16.07.53/\"\n",
    "\n",
    "y, x, video_name = data_process(data_path)\n",
    "visulization(x, y, video_name=video_name)"
   ]
  }
 ],
 "metadata": {
  "kernelspec": {
   "display_name": "Python 3 (ipykernel)",
   "language": "python",
   "name": "python3"
  },
  "language_info": {
   "codemirror_mode": {
    "name": "ipython",
    "version": 3
   },
   "file_extension": ".py",
   "mimetype": "text/x-python",
   "name": "python",
   "nbconvert_exporter": "python",
   "pygments_lexer": "ipython3",
   "version": "3.9.12"
  }
 },
 "nbformat": 4,
 "nbformat_minor": 5
}
